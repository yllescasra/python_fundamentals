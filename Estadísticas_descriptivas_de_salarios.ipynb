{
  "nbformat": 4,
  "nbformat_minor": 0,
  "metadata": {
    "colab": {
      "provenance": [],
      "authorship_tag": "ABX9TyNx3ulGCApQFg89NQFZpGd1"
    },
    "kernelspec": {
      "name": "python3",
      "display_name": "Python 3"
    },
    "language_info": {
      "name": "python"
    }
  },
  "cells": [
    {
      "cell_type": "code",
      "execution_count": 2,
      "metadata": {
        "colab": {
          "base_uri": "https://localhost:8080/"
        },
        "id": "TAczWvZZhMEG",
        "outputId": "fd2f4b3a-a69f-4f48-80ac-2d6317e352f2"
      },
      "outputs": [
        {
          "output_type": "stream",
          "name": "stdout",
          "text": [
            "   Nombre  Edad  Salario Genero\n",
            "0   Ringo    45    12000      M\n",
            "1    John    34    14000      M\n",
            "2    Paul    42    13000      M\n",
            "3  Geroge    38    11000      M\n",
            "4    Yoko    47    10000      F\n",
            "El rango es 4000\n",
            "count        5.00000\n",
            "mean     12000.00000\n",
            "std       1581.13883\n",
            "min      10000.00000\n",
            "25%      11000.00000\n",
            "50%      12000.00000\n",
            "75%      13000.00000\n",
            "max      14000.00000\n",
            "Name: Salario, dtype: float64\n"
          ]
        }
      ],
      "source": [
        "import pandas as pd\n",
        "salarios={\n",
        "    \"Nombre\":[\"Ringo\",\"John\",\"Paul\",\"Geroge\",\"Yoko\"],\n",
        "    \"Edad\":[45,34,42,38,47],\n",
        "    \"Salario\":[12000,14000,13000,11000,10000],\n",
        "    \"Genero\":[\"M\",\"M\",\"M\",\"M\",\"F\"]\n",
        "}\n",
        "\n",
        "df=pd.DataFrame(salarios)\n",
        "\n",
        "print(df.head())\n",
        "\n",
        "col_salario=df[\"Salario\"]\n",
        "\n",
        "rango=col_salario.max() - col_salario.min()\n",
        "\n",
        "print(f\"El rango es {rango}\")\n",
        "\n",
        "print(col_salario.describe())"
      ]
    }
  ]
}