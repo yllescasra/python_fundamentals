{
  "nbformat": 4,
  "nbformat_minor": 0,
  "metadata": {
    "colab": {
      "provenance": [],
      "authorship_tag": "ABX9TyMTemS1BQwp8PDJJD52TEcS"
    },
    "kernelspec": {
      "name": "python3",
      "display_name": "Python 3"
    },
    "language_info": {
      "name": "python"
    }
  },
  "cells": [
    {
      "cell_type": "code",
      "execution_count": 4,
      "metadata": {
        "colab": {
          "base_uri": "https://localhost:8080/"
        },
        "id": "_JwKEeINRqt8",
        "outputId": "dcd21212-142b-4da5-b600-f5fe8d193b2f"
      },
      "outputs": [
        {
          "output_type": "stream",
          "name": "stdout",
          "text": [
            "-2.0 -2.0\n",
            "La respuesta cuenta con un valor imaginario\n",
            "False False\n"
          ]
        }
      ],
      "source": [
        "def cuadratica(a, b, c):\n",
        "    return 0\n",
        "def cuadratica(a,b,c):\n",
        "    discriminante=b**2-4*a*c\n",
        "    return 0\n",
        "def cuadratica(a,b,c):\n",
        "    discriminante=b**2-4*a*c\n",
        "\n",
        "    if discriminante<0:\n",
        "        print(\"La respuesta cuenta con un valor imaginario\")\n",
        "        return False, False\n",
        "    else:\n",
        "        x1=(-b+discriminante**0.5)/(2*a)\n",
        "        x2=(-b+discriminante**0.5)/(2*a)\n",
        "        return x1,x2\n",
        "\n",
        "x1, x2=cuadratica(1,4,4)\n",
        "print(x1,x2)\n",
        "\n",
        "x1, x2=cuadratica(1,2,5)\n",
        "print(x1,x2)\n",
        "\n"
      ]
    }
  ]
}