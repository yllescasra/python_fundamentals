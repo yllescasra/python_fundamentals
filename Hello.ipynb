{
  "cells": [
    {
      "cell_type": "code",
      "source": [
        "print(\"Andres Yllescas\")\r\n",
        "print(\"Human Capital Intelligence\")\r\n",
        "print(\"¡Hello\"+ \" World!\")"
      ],
      "outputs": [
        {
          "output_type": "display_data",
          "data": {
            "application/vnd.livy.statement-meta+json": {
              "spark_pool": "SPKSmallCAPlab0",
              "session_id": "17",
              "statement_id": 4,
              "state": "finished",
              "livy_statement_state": "available",
              "queued_time": "2023-07-12T17:55:04.8880403Z",
              "session_start_time": null,
              "execution_start_time": "2023-07-12T17:55:05.0655849Z",
              "execution_finish_time": "2023-07-12T17:55:05.2365814Z",
              "spark_jobs": null,
              "parent_msg_id": "c757e5a8-f90a-4719-a308-5aef736e5857"
            },
            "text/plain": "StatementMeta(SPKSmallCAPlab0, 17, 4, Finished, Available)"
          },
          "metadata": {}
        },
        {
          "output_type": "stream",
          "name": "stdout",
          "text": [
            "Andres Yllescas\nHuman Capital Intelligence\n¡Hello World!\n"
          ]
        }
      ],
      "execution_count": 3,
      "metadata": {}
    }
  ],
  "metadata": {
    "language_info": {
      "name": "python"
    },
    "kernelspec": {
      "name": "synapse_pyspark",
      "language": "Python",
      "display_name": "Synapse PySpark"
    },
    "kernel_info": {
      "name": "synapse_pyspark"
    },
    "save_output": true,
    "synapse_widget": {
      "version": "0.1",
      "state": {}
    }
  },
  "nbformat": 4,
  "nbformat_minor": 2
}