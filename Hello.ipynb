print("Andres Yllescas")
print("Human Capital Intelligence Manager")
