{
  "cells": [
    {
      "cell_type": "code",
      "source": [
        "print(\"Andres Yllescas\")\r\n",
        "print(\"Human Capital Intelligence\")"
      ],
      "outputs": [
        {
          "output_type": "display_data",
          "data": {
            "application/vnd.livy.statement-meta+json": {
              "spark_pool": "SPKSmallCAPlab0",
              "session_id": "17",
              "statement_id": 2,
              "state": "finished",
              "livy_statement_state": "available",
              "queued_time": "2023-07-12T17:46:48.6262217Z",
              "session_start_time": "2023-07-12T17:46:48.6887178Z",
              "execution_start_time": "2023-07-12T17:50:06.4250645Z",
              "execution_finish_time": "2023-07-12T17:50:06.5936342Z",
              "spark_jobs": null,
              "parent_msg_id": "cf154155-9ed7-44bb-b827-cf08094a5603"
            },
            "text/plain": "StatementMeta(SPKSmallCAPlab0, 17, 2, Finished, Available)"
          },
          "metadata": {}
        },
        {
          "output_type": "stream",
          "name": "stdout",
          "text": [
            "Andres Yllescas\nHuman Capital Intelligence\n"
          ]
        }
      ],
      "execution_count": 1,
      "metadata": {}
    }
  ],
  "metadata": {
    "language_info": {
      "name": "python"
    },
    "kernelspec": {
      "name": "synapse_pyspark",
      "language": "Python",
      "display_name": "Synapse PySpark"
    },
    "kernel_info": {
      "name": "synapse_pyspark"
    },
    "save_output": true,
    "synapse_widget": {
      "version": "0.1",
      "state": {}
    }
  },
  "nbformat": 4,
  "nbformat_minor": 2
}