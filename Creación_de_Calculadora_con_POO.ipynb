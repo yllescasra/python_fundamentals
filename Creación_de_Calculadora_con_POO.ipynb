{
  "nbformat": 4,
  "nbformat_minor": 0,
  "metadata": {
    "colab": {
      "provenance": [],
      "authorship_tag": "ABX9TyO1Mj8W01kmZ1WtCNl4W4jp"
    },
    "kernelspec": {
      "name": "python3",
      "display_name": "Python 3"
    },
    "language_info": {
      "name": "python"
    }
  },
  "cells": [
    {
      "cell_type": "code",
      "source": [
        "class Calculadora:\n",
        "    def __init__(self, valor_1, valor_2):\n",
        "        self.valor_1=valor_1\n",
        "        self.valor_2=valor_2\n",
        "\n",
        "    def suma(self):\n",
        "        return self.valor_1 + self.valor_2\n",
        "\n",
        "    def resta(self):\n",
        "        return self.valor_1 - self.valor_2\n",
        "\n",
        "    def multiplicacion(self):\n",
        "        return self.valor_1 * self.valor_2\n",
        "\n",
        "    def division(self):\n",
        "        if self.valor_2 != 0:\n",
        "            return self.valor_1/self.valor_2\n",
        "        else:\n",
        "            return \"El resultado de esta división es indefinido\"\n",
        "\n",
        "print(\"Ingresa los números a evaluar\")\n",
        "valor_1=int(input(\"Ingresa el primer número\"))\n",
        "valor_2=int(input(\"Ingresa el segundo número\"))\n",
        "\n",
        "calc=Calculadora(valor_1, valor_2)\n",
        "\n",
        "print(\"La suma de los valores es: \",calc.suma())\n",
        "print(\"La resta de los valores es: \",calc.resta())\n",
        "print(\"La multiplicación de los valores es: \",calc.multiplicacion())\n",
        "print(\"La división de los valores es: \",calc.division())\n",
        "\n"
      ],
      "metadata": {
        "colab": {
          "base_uri": "https://localhost:8080/"
        },
        "id": "XBiYf7JLZ-Z8",
        "outputId": "d6d1ab38-4dac-42d6-a5c7-b03f3287728f"
      },
      "execution_count": 4,
      "outputs": [
        {
          "output_type": "stream",
          "name": "stdout",
          "text": [
            "Ingresa los números a evaluar\n",
            "Ingresa el primer número5\n",
            "Ingresa el segundo número2\n",
            "La suma de los valores es:  7\n",
            "La resta de los valores es:  3\n",
            "La multiplicación de los valores es:  10\n",
            "La división de los valores es:  2.5\n"
          ]
        }
      ]
    }
  ]
}