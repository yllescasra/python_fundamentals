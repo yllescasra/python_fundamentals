{
  "cells": [
    {
      "cell_type": "code",
      "source": [
        "x=24/2\r\n",
        "print(f\"Mi edad es {x} años\")"
      ],
      "outputs": [
        {
          "output_type": "display_data",
          "data": {
            "application/vnd.livy.statement-meta+json": {
              "spark_pool": "SPKSmallCAPlab0",
              "session_id": "23",
              "statement_id": 22,
              "state": "finished",
              "livy_statement_state": "available",
              "queued_time": "2023-07-12T23:11:36.5646962Z",
              "session_start_time": null,
              "execution_start_time": "2023-07-12T23:11:36.7422405Z",
              "execution_finish_time": "2023-07-12T23:11:36.9949998Z",
              "spark_jobs": null,
              "parent_msg_id": "bac7f46d-0250-4b66-b49c-0226bc60fe96"
            },
            "text/plain": "StatementMeta(SPKSmallCAPlab0, 23, 22, Finished, Available)"
          },
          "metadata": {}
        },
        {
          "output_type": "stream",
          "name": "stdout",
          "text": [
            "Mi edad es 12.0 años\n"
          ]
        }
      ],
      "execution_count": 24,
      "metadata": {}
    },
    {
      "cell_type": "code",
      "source": [
        "#Ecuación 2: \"A un tercio de la edad de mi hermana le disminuyo 15 años para tener la misma edad que yo. Yo tengo 6 años. ¿Qué edad tiene ella?\"\r\n",
        "x=6\r\n",
        "y=(x+15)*3\r\n",
        "print(f\"La edad de mi hermana es {y} años\")\r\n",
        "\r\n",
        "if x>y:\r\n",
        "    print(\"Soy mayor que mi hermana\")\r\n",
        "elif x<y:\r\n",
        "    print(\"Mi hermana es mayor que yo\")\r\n",
        "else:\r\n",
        "    print(\"Mi hermana y yo tenemos la misma edad\")"
      ],
      "outputs": [
        {
          "output_type": "display_data",
          "data": {
            "application/vnd.livy.statement-meta+json": {
              "spark_pool": "SPKSmallCAPlab0",
              "session_id": "23",
              "statement_id": 32,
              "state": "finished",
              "livy_statement_state": "available",
              "queued_time": "2023-07-12T23:19:13.8823061Z",
              "session_start_time": null,
              "execution_start_time": "2023-07-12T23:19:14.0479197Z",
              "execution_finish_time": "2023-07-12T23:19:14.2024097Z",
              "spark_jobs": null,
              "parent_msg_id": "6bd44953-9da5-48ea-ba85-0811b4ab9d90"
            },
            "text/plain": "StatementMeta(SPKSmallCAPlab0, 23, 32, Finished, Available)"
          },
          "metadata": {}
        },
        {
          "output_type": "stream",
          "name": "stdout",
          "text": [
            "La edad de mi hermana es 63 años\nMi hermana es mayor que yo\n"
          ]
        }
      ],
      "execution_count": 34,
      "metadata": {
        "jupyter": {
          "source_hidden": false,
          "outputs_hidden": false
        },
        "nteract": {
          "transient": {
            "deleting": false
          }
        }
      }
    }
  ],
  "metadata": {
    "language_info": {
      "name": "python"
    },
    "kernelspec": {
      "name": "synapse_pyspark",
      "language": "Python",
      "display_name": "Synapse PySpark"
    },
    "kernel_info": {
      "name": "synapse_pyspark"
    },
    "save_output": true,
    "synapse_widget": {
      "version": "0.1",
      "state": {}
    }
  },
  "nbformat": 4,
  "nbformat_minor": 2
}