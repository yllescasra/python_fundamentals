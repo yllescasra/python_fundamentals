{
  "cells": [
    {
      "cell_type": "code",
      "source": [
        "import numpy as np\r\n",
        "matriz_3x3=np.arange(9).reshape(3,3)\r\n",
        "print(matriz_3x3)\r\n",
        "matriz_identidad=np.identity(6)\r\n",
        "print(matriz_identidad)"
      ],
      "outputs": [
        {
          "output_type": "display_data",
          "data": {
            "application/vnd.livy.statement-meta+json": {
              "spark_pool": "SPK00",
              "session_id": "34",
              "statement_id": 6,
              "state": "finished",
              "livy_statement_state": "available",
              "queued_time": "2023-07-18T23:13:29.8957616Z",
              "session_start_time": null,
              "execution_start_time": "2023-07-18T23:13:30.0557983Z",
              "execution_finish_time": "2023-07-18T23:13:30.2223367Z",
              "spark_jobs": null,
              "parent_msg_id": "443cb807-b8ab-498b-9554-8dcf62ad828e"
            },
            "text/plain": "StatementMeta(SPK00, 34, 6, Finished, Available)"
          },
          "metadata": {}
        },
        {
          "output_type": "stream",
          "name": "stdout",
          "text": [
            "[[0 1 2]\n [3 4 5]\n [6 7 8]]\n[[1. 0. 0. 0. 0. 0.]\n [0. 1. 0. 0. 0. 0.]\n [0. 0. 1. 0. 0. 0.]\n [0. 0. 0. 1. 0. 0.]\n [0. 0. 0. 0. 1. 0.]\n [0. 0. 0. 0. 0. 1.]]\n"
          ]
        }
      ],
      "execution_count": 5,
      "metadata": {}
    }
  ],
  "metadata": {
    "language_info": {
      "name": "python"
    },
    "kernelspec": {
      "name": "synapse_pyspark",
      "language": "Python",
      "display_name": "Synapse PySpark"
    },
    "kernel_info": {
      "name": "synapse_pyspark"
    },
    "save_output": true,
    "synapse_widget": {
      "version": "0.1",
      "state": {}
    }
  },
  "nbformat": 4,
  "nbformat_minor": 2
}