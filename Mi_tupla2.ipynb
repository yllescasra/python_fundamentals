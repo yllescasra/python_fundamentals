{
  "cells": [
    {
      "cell_type": "code",
      "source": [
        "Mi_tupla=(\"México\",True,\"Argentina\",False)\r\n",
        "print(Mi_tupla)\r\n",
        "Mi_lista=list(Mi_tupla)\r\n",
        "print(Mi_lista)\r\n",
        "Mi_diccionario={}\r\n",
        "for i in range(len(Mi_lista)):Mi_diccionario[i+1]=Mi_lista[i]\r\n",
        "print(Mi_diccionario)"
      ],
      "outputs": [
        {
          "output_type": "display_data",
          "data": {
            "application/vnd.livy.statement-meta+json": {
              "spark_pool": "SPKSmallCAPlab0",
              "session_id": "23",
              "statement_id": 14,
              "state": "finished",
              "livy_statement_state": "available",
              "queued_time": "2023-07-12T23:02:50.4398868Z",
              "session_start_time": null,
              "execution_start_time": "2023-07-12T23:02:50.5944045Z",
              "execution_finish_time": "2023-07-12T23:02:50.8206171Z",
              "spark_jobs": null,
              "parent_msg_id": "7f84a718-f02b-4e56-8006-c71bf583e29f"
            },
            "text/plain": "StatementMeta(SPKSmallCAPlab0, 23, 14, Finished, Available)"
          },
          "metadata": {}
        },
        {
          "output_type": "stream",
          "name": "stdout",
          "text": [
            "('México', True, 'Argentina', False)\n['México', True, 'Argentina', False]\n{1: 'México', 2: True, 3: 'Argentina', 4: False}\n"
          ]
        }
      ],
      "execution_count": 16,
      "metadata": {}
    }
  ],
  "metadata": {
    "language_info": {
      "name": "python"
    },
    "kernelspec": {
      "name": "synapse_pyspark",
      "language": "Python",
      "display_name": "Synapse PySpark"
    },
    "kernel_info": {
      "name": "synapse_pyspark"
    },
    "save_output": true,
    "synapse_widget": {
      "version": "0.1",
      "state": {}
    }
  },
  "nbformat": 4,
  "nbformat_minor": 2
}