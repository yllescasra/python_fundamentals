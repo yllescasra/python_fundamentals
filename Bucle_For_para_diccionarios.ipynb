{
  "nbformat": 4,
  "nbformat_minor": 0,
  "metadata": {
    "colab": {
      "provenance": [],
      "authorship_tag": "ABX9TyMHWYPkxrujalaKw0ne4UHu",
      "include_colab_link": true
    },
    "kernelspec": {
      "name": "python3",
      "display_name": "Python 3"
    },
    "language_info": {
      "name": "python"
    }
  },
  "cells": [
    {
      "cell_type": "markdown",
      "metadata": {
        "id": "view-in-github",
        "colab_type": "text"
      },
      "source": [
        "<a href=\"https://colab.research.google.com/github/yllescasra/python_fundamentals/blob/main/Bucle_For_para_diccionarios.ipynb\" target=\"_parent\"><img src=\"https://colab.research.google.com/assets/colab-badge.svg\" alt=\"Open In Colab\"/></a>"
      ]
    },
    {
      "cell_type": "code",
      "execution_count": 6,
      "metadata": {
        "colab": {
          "base_uri": "https://localhost:8080/"
        },
        "id": "aJXFJU8hWXHb",
        "outputId": "c48b7993-e783-4cda-ccd0-4d18e40ddf8b"
      },
      "outputs": [
        {
          "output_type": "stream",
          "name": "stdout",
          "text": [
            "Nombre: Juan\n",
            "Numero: 5\n",
            "Nombre: Pepe\n",
            "Numero: 20\n",
            "Nombre: Adela\n",
            "Numero: 1\n",
            "Nombre: Marta\n",
            "Numero: 200\n",
            "Nombre: Eduardo\n",
            "Numero: 3\n",
            "El valor más pequeño de la lista es: 1\n",
            "El valor más grande de la lista es: 200\n"
          ]
        }
      ],
      "source": [
        "diccionario_base={\"Juan\":5,\"Pepe\":20,\"Adela\":1,\"Marta\":200,\"Eduardo\":3}\n",
        "for i in diccionario_base:\n",
        "        nombre=i\n",
        "        print(f\"Nombre: {nombre}\")\n",
        "        numero=diccionario_base[i]\n",
        "        print(f\"Numero: {numero}\")\n",
        "\n",
        "valores=diccionario_base.values()\n",
        "\n",
        "minimo=min(valores)\n",
        "maximo=max(valores)\n",
        "\n",
        "menor=min(diccionario_base.values())\n",
        "mayor=max(diccionario_base.values())\n",
        "\n",
        "print(f\"El valor más pequeño de la lista es: {minimo}\")\n",
        "print(f\"El valor más grande de la lista es: {maximo}\")\n",
        "\n"
      ]
    }
  ]
}