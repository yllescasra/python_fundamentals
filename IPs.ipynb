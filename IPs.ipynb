{
  "nbformat": 4,
  "nbformat_minor": 0,
  "metadata": {
    "colab": {
      "provenance": [],
      "authorship_tag": "ABX9TyN61CRl0FkrbYk2PXSxt+sW"
    },
    "kernelspec": {
      "name": "python3",
      "display_name": "Python 3"
    },
    "language_info": {
      "name": "python"
    }
  },
  "cells": [
    {
      "cell_type": "code",
      "execution_count": null,
      "metadata": {
        "colab": {
          "base_uri": "https://localhost:8080/"
        },
        "id": "eah2bLK97CSa",
        "outputId": "d00ab9f9-8346-4890-8168-18c8565575cd"
      },
      "outputs": [
        {
          "output_type": "stream",
          "name": "stdout",
          "text": [
            "Requirement already satisfied: pandas in /usr/local/lib/python3.10/dist-packages (1.5.3)\n",
            "Requirement already satisfied: python-dateutil>=2.8.1 in /usr/local/lib/python3.10/dist-packages (from pandas) (2.8.2)\n",
            "Requirement already satisfied: pytz>=2020.1 in /usr/local/lib/python3.10/dist-packages (from pandas) (2023.3)\n",
            "Requirement already satisfied: numpy>=1.21.0 in /usr/local/lib/python3.10/dist-packages (from pandas) (1.23.5)\n",
            "Requirement already satisfied: six>=1.5 in /usr/local/lib/python3.10/dist-packages (from python-dateutil>=2.8.1->pandas) (1.16.0)\n"
          ]
        }
      ],
      "source": [
        "pip install pandas\n"
      ]
    },
    {
      "cell_type": "code",
      "source": [
        "import pandas as pd\n",
        "import ipaddress\n",
        "\n",
        "# Cargar el archivo de Excel\n",
        "archivo_excel = '/content/Direccionamiento IP Ternium.xlsx'  # Cambia esto al nombre de tu archivo Excel\n",
        "data_frame = pd.read_excel(archivo_excel)\n",
        "\n",
        "# Función para verificar si una IP está dentro del rango\n",
        "def ip_en_rango(ip, rango_min, rango_max):\n",
        "    ip_obj = ipaddress.ip_address(ip)\n",
        "    return ipaddress.ip_address(rango_min) <= ip_obj <= ipaddress.ip_address(rango_max)\n",
        "\n",
        "# Direcciones IP a verificar\n",
        "ips_a_verificar = ['10.210.23.112']  # Cambia estas IPs según las que desees verificar\n",
        "\n",
        "# Verificar cada IP\n",
        "for ip_verificar in ips_a_verificar:\n",
        "    for index, row in data_frame.iterrows():\n",
        "        if ip_en_rango(ip_verificar, row['Host Mínimo'], row['Host Máximo']):\n",
        "            print(f'La IP {ip_verificar} está en el rango de {row[\"Host Mínimo\"]} a {row[\"Host Máximo\"]} de la IP: {row[\"IP\"]}, {row[\"Site Name\"]}, {row[\"City\"]}')\n",
        "            break\n",
        "    else:\n",
        "        print(f'La IP {ip_verificar} no está en ningún rango')\n"
      ],
      "metadata": {
        "colab": {
          "base_uri": "https://localhost:8080/"
        },
        "id": "4P2Da1wr7IGV",
        "outputId": "9391bd24-03b3-4faa-ba14-ba6b3050c071"
      },
      "execution_count": null,
      "outputs": [
        {
          "output_type": "stream",
          "name": "stdout",
          "text": [
            "La IP 10.210.23.112 no está en ningún rango\n"
          ]
        }
      ]
    },
    {
      "cell_type": "code",
      "source": [
        "print(\"Hello World\")"
      ],
      "metadata": {
        "colab": {
          "base_uri": "https://localhost:8080/"
        },
        "id": "P7tYUdaoiO67",
        "outputId": "89687746-8771-4b22-b446-fc7dd384ce2f"
      },
      "execution_count": null,
      "outputs": [
        {
          "output_type": "stream",
          "name": "stdout",
          "text": [
            "Hello World\n"
          ]
        }
      ]
    },
    {
      "cell_type": "code",
      "source": [
        "def calcular_valor_resistencia(colores):\n",
        "    codificacion = {\n",
        "        \"Negro\": 0,\n",
        "        \"Marrón\": 1,\n",
        "        \"Rojo\": 2,\n",
        "        \"Naranja\": 3,\n",
        "        \"Amarillo\": 4,\n",
        "        \"Verde\": 5,\n",
        "        \"Azul\": 6,\n",
        "        \"Púrpura\": 7,\n",
        "        \"Gris\": 8,\n",
        "        \"Blanco\": 9\n",
        "    }\n",
        "\n",
        "    # Dividir la cadena de colores en una lista\n",
        "    lista_colores = colores.split(\"-\")\n",
        "\n",
        "    # Obtener el valor numérico de las primeras dos bandas\n",
        "    valor = codificacion[lista_colores[0]] * 10 + codificacion[lista_colores[1]]\n",
        "\n",
        "    return valor\n",
        "\n",
        "# Ejemplo de uso\n",
        "colores_entrada = \"Rojo-Naranja-Amarillo-Verde\"  # Puedes cambiar esta entrada\n",
        "valor_resistencia = calcular_valor_resistencia(colores_entrada)\n",
        "print(f\"El valor de la resistencia es: {valor_resistencia}\")\n"
      ],
      "metadata": {
        "colab": {
          "base_uri": "https://localhost:8080/"
        },
        "id": "O5W3758Sj-Zl",
        "outputId": "5cd59292-3250-4bd5-f298-a977c8b2db21"
      },
      "execution_count": null,
      "outputs": [
        {
          "output_type": "stream",
          "name": "stdout",
          "text": [
            "El valor de la resistencia es: 23\n"
          ]
        }
      ]
    },
    {
      "cell_type": "code",
      "source": [
        "def calcular_valor_resistencia(colores):\n",
        "    codificacion = {\n",
        "        \"Negro\": 0,\n",
        "        \"Marrón\": 1,\n",
        "        \"Rojo\": 2,\n",
        "        \"Naranja\": 3,\n",
        "        \"Amarillo\": 4,\n",
        "        \"Verde\": 5,\n",
        "        \"Azul\": 6,\n",
        "        \"Púrpura\": 7,\n",
        "        \"Gris\": 8,\n",
        "        \"Blanco\": 9\n",
        "    }\n",
        "\n",
        "    # Dividir la cadena de colores en una lista\n",
        "    lista_colores = colores.split(\"-\")\n",
        "\n",
        "    # Obtener el valor numérico de las primeras dos bandas\n",
        "    valor = codificacion[lista_colores[0]] * 10 + codificacion[lista_colores[1]]\n",
        "\n",
        "    return valor\n",
        "\n",
        "# Solicitar los colores al usuario\n",
        "colores_entrada = input(\"Ingresa los colores de la resistencia separados por guiones (por ejemplo: Marrón-Verde-Rojo): \")\n",
        "\n",
        "valor_resistencia = calcular_valor_resistencia(colores_entrada)\n",
        "print(f\"El valor de la resistencia es: {valor_resistencia}\")\n"
      ],
      "metadata": {
        "colab": {
          "base_uri": "https://localhost:8080/",
          "height": 390
        },
        "id": "kJk_xr2Pkpb2",
        "outputId": "78afb445-9335-441f-b403-98af096aecc3"
      },
      "execution_count": null,
      "outputs": [
        {
          "output_type": "error",
          "ename": "KeyboardInterrupt",
          "evalue": "ignored",
          "traceback": [
            "\u001b[0;31m---------------------------------------------------------------------------\u001b[0m",
            "\u001b[0;31mKeyboardInterrupt\u001b[0m                         Traceback (most recent call last)",
            "\u001b[0;32m<ipython-input-12-6e7849b0caac>\u001b[0m in \u001b[0;36m<cell line: 24>\u001b[0;34m()\u001b[0m\n\u001b[1;32m     22\u001b[0m \u001b[0;34m\u001b[0m\u001b[0m\n\u001b[1;32m     23\u001b[0m \u001b[0;31m# Solicitar los colores al usuario\u001b[0m\u001b[0;34m\u001b[0m\u001b[0;34m\u001b[0m\u001b[0m\n\u001b[0;32m---> 24\u001b[0;31m \u001b[0mcolores_entrada\u001b[0m \u001b[0;34m=\u001b[0m \u001b[0minput\u001b[0m\u001b[0;34m(\u001b[0m\u001b[0;34m\"Ingresa los colores de la resistencia separados por guiones (por ejemplo: Marrón-Verde-Rojo): \"\u001b[0m\u001b[0;34m)\u001b[0m\u001b[0;34m\u001b[0m\u001b[0;34m\u001b[0m\u001b[0m\n\u001b[0m\u001b[1;32m     25\u001b[0m \u001b[0;34m\u001b[0m\u001b[0m\n\u001b[1;32m     26\u001b[0m \u001b[0mvalor_resistencia\u001b[0m \u001b[0;34m=\u001b[0m \u001b[0mcalcular_valor_resistencia\u001b[0m\u001b[0;34m(\u001b[0m\u001b[0mcolores_entrada\u001b[0m\u001b[0;34m)\u001b[0m\u001b[0;34m\u001b[0m\u001b[0;34m\u001b[0m\u001b[0m\n",
            "\u001b[0;32m/usr/local/lib/python3.10/dist-packages/ipykernel/kernelbase.py\u001b[0m in \u001b[0;36mraw_input\u001b[0;34m(self, prompt)\u001b[0m\n\u001b[1;32m    849\u001b[0m                 \u001b[0;34m\"raw_input was called, but this frontend does not support input requests.\"\u001b[0m\u001b[0;34m\u001b[0m\u001b[0;34m\u001b[0m\u001b[0m\n\u001b[1;32m    850\u001b[0m             )\n\u001b[0;32m--> 851\u001b[0;31m         return self._input_request(str(prompt),\n\u001b[0m\u001b[1;32m    852\u001b[0m             \u001b[0mself\u001b[0m\u001b[0;34m.\u001b[0m\u001b[0m_parent_ident\u001b[0m\u001b[0;34m,\u001b[0m\u001b[0;34m\u001b[0m\u001b[0;34m\u001b[0m\u001b[0m\n\u001b[1;32m    853\u001b[0m             \u001b[0mself\u001b[0m\u001b[0;34m.\u001b[0m\u001b[0m_parent_header\u001b[0m\u001b[0;34m,\u001b[0m\u001b[0;34m\u001b[0m\u001b[0;34m\u001b[0m\u001b[0m\n",
            "\u001b[0;32m/usr/local/lib/python3.10/dist-packages/ipykernel/kernelbase.py\u001b[0m in \u001b[0;36m_input_request\u001b[0;34m(self, prompt, ident, parent, password)\u001b[0m\n\u001b[1;32m    893\u001b[0m             \u001b[0;32mexcept\u001b[0m \u001b[0mKeyboardInterrupt\u001b[0m\u001b[0;34m:\u001b[0m\u001b[0;34m\u001b[0m\u001b[0;34m\u001b[0m\u001b[0m\n\u001b[1;32m    894\u001b[0m                 \u001b[0;31m# re-raise KeyboardInterrupt, to truncate traceback\u001b[0m\u001b[0;34m\u001b[0m\u001b[0;34m\u001b[0m\u001b[0m\n\u001b[0;32m--> 895\u001b[0;31m                 \u001b[0;32mraise\u001b[0m \u001b[0mKeyboardInterrupt\u001b[0m\u001b[0;34m(\u001b[0m\u001b[0;34m\"Interrupted by user\"\u001b[0m\u001b[0;34m)\u001b[0m \u001b[0;32mfrom\u001b[0m \u001b[0;32mNone\u001b[0m\u001b[0;34m\u001b[0m\u001b[0;34m\u001b[0m\u001b[0m\n\u001b[0m\u001b[1;32m    896\u001b[0m             \u001b[0;32mexcept\u001b[0m \u001b[0mException\u001b[0m \u001b[0;32mas\u001b[0m \u001b[0me\u001b[0m\u001b[0;34m:\u001b[0m\u001b[0;34m\u001b[0m\u001b[0;34m\u001b[0m\u001b[0m\n\u001b[1;32m    897\u001b[0m                 \u001b[0mself\u001b[0m\u001b[0;34m.\u001b[0m\u001b[0mlog\u001b[0m\u001b[0;34m.\u001b[0m\u001b[0mwarning\u001b[0m\u001b[0;34m(\u001b[0m\u001b[0;34m\"Invalid Message:\"\u001b[0m\u001b[0;34m,\u001b[0m \u001b[0mexc_info\u001b[0m\u001b[0;34m=\u001b[0m\u001b[0;32mTrue\u001b[0m\u001b[0;34m)\u001b[0m\u001b[0;34m\u001b[0m\u001b[0;34m\u001b[0m\u001b[0m\n",
            "\u001b[0;31mKeyboardInterrupt\u001b[0m: Interrupted by user"
          ]
        }
      ]
    },
    {
      "cell_type": "code",
      "source": [
        "def es_bisiesto(anio):\n",
        "    if (anio % 4 == 0 and anio % 100 != 0) or (anio % 400 == 0):\n",
        "        return True\n",
        "    else:\n",
        "        return False\n",
        "\n",
        "# Solicitar al usuario que ingrese el año\n",
        "anio = int(input(\"Ingresa un año: \"))\n",
        "\n",
        "if es_bisiesto(anio):\n",
        "    print(f\"{anio} es un año bisiesto\")\n",
        "else:\n",
        "    print(f\"{anio} no es un año bisiesto\")\n"
      ],
      "metadata": {
        "colab": {
          "base_uri": "https://localhost:8080/"
        },
        "id": "BJQ5DPFDlh3S",
        "outputId": "cb1e0b31-eb93-4529-981e-080b57669e91"
      },
      "execution_count": null,
      "outputs": [
        {
          "output_type": "stream",
          "name": "stdout",
          "text": [
            "Ingresa un año: 2000\n",
            "2000 es un año bisiesto\n"
          ]
        }
      ]
    },
    {
      "cell_type": "code",
      "source": [
        "def calcular_edad_en_planeta(segundos, planeta):\n",
        "    # Definir los períodos orbitales de cada planeta en años terrestres\n",
        "    periodos_orbitales = {\n",
        "        \"Mercurio\": 0.2408467,\n",
        "        \"Tierra\": 1.0,\n",
        "        \"Marte\": 1.8808158,\n",
        "        \"Júpiter\": 11.862615,\n",
        "        \"Saturno\": 29.447498,\n",
        "        \"Urano\": 84.016846,\n",
        "        \"Neptuno\": 164.79132\n",
        "    }\n",
        "\n",
        "    # Convertir segundos a años terrestres\n",
        "    anos_terrestres = segundos / 31557600\n",
        "\n",
        "    # Calcular la edad en el planeta especificado\n",
        "    edad_en_planeta = anos_terrestres / periodos_orbitales[planeta]\n",
        "\n",
        "    return round(edad_en_planeta, 2)\n",
        "\n",
        "# Solicitar al usuario que ingrese la cantidad de segundos y el planeta\n",
        "segundos = float(input(\"Ingresa la cantidad de segundos de edad: \"))\n",
        "planeta = input(\"Ingresa el nombre del planeta (Mercurio, Tierra, Marte, Júpiter, Saturno, Urano o Neptuno): \")\n",
        "\n",
        "# Calcular la edad en el planeta especificado\n",
        "edad_en_planeta = calcular_edad_en_planeta(segundos, planeta)\n",
        "\n",
        "# Imprimir el resultado\n",
        "print(f\"En {planeta}, tendrías aproximadamente {edad_en_planeta} años.\")\n"
      ],
      "metadata": {
        "colab": {
          "base_uri": "https://localhost:8080/"
        },
        "id": "ZSmmeNTrrmWm",
        "outputId": "4653d806-ff4b-47aa-d1e4-0284cfad6dbe"
      },
      "execution_count": null,
      "outputs": [
        {
          "output_type": "stream",
          "name": "stdout",
          "text": [
            "Ingresa la cantidad de segundos de edad: 1000000000\n",
            "Ingresa el nombre del planeta (Mercurio, Tierra, Marte, Júpiter, Saturno, Urano o Neptuno): Júpiter\n",
            "En Júpiter, tendrías aproximadamente 2.67 años.\n"
          ]
        }
      ]
    },
    {
      "cell_type": "code",
      "source": [
        "import pandas as pd\n",
        "\n",
        "serie_brag_vow = pd.Series(['So Pandas here I come'], index=['i am a numpy champ'], name='brag_vow')\n",
        "\n",
        "\n",
        "# Mostrar la serie\n",
        "print(serie_brag_vow)\n"
      ],
      "metadata": {
        "colab": {
          "base_uri": "https://localhost:8080/"
        },
        "id": "rftsw2W72G4V",
        "outputId": "4f09baad-9e9a-47d9-e0ac-73a10341a1b2"
      },
      "execution_count": null,
      "outputs": [
        {
          "output_type": "stream",
          "name": "stdout",
          "text": [
            "i am a numpy champ    So Pandas here I come\n",
            "Name: brag_vow, dtype: object\n"
          ]
        }
      ]
    },
    {
      "cell_type": "code",
      "source": [
        "print(serie_brag_vow.tail(3))\n",
        "\n"
      ],
      "metadata": {
        "colab": {
          "base_uri": "https://localhost:8080/"
        },
        "id": "Yo-bspYq2mmI",
        "outputId": "c66b97e4-893f-49d8-a810-ef6c7044d995"
      },
      "execution_count": null,
      "outputs": [
        {
          "output_type": "stream",
          "name": "stdout",
          "text": [
            "i am a numpy champ    So Pandas here I come\n",
            "Name: brag_vow, dtype: object\n"
          ]
        }
      ]
    },
    {
      "cell_type": "code",
      "source": [
        "print(serie_brag_vow['i am a numpy champ'])\n"
      ],
      "metadata": {
        "colab": {
          "base_uri": "https://localhost:8080/"
        },
        "id": "FyGBd6mE3SBx",
        "outputId": "d82362af-d9a7-41ab-a43d-02499bb4e5fe"
      },
      "execution_count": null,
      "outputs": [
        {
          "output_type": "stream",
          "name": "stdout",
          "text": [
            "So Pandas here I come\n"
          ]
        }
      ]
    },
    {
      "cell_type": "code",
      "source": [
        "print(serie_brag_vow.values)\n"
      ],
      "metadata": {
        "colab": {
          "base_uri": "https://localhost:8080/"
        },
        "id": "n8vUii-u4APq",
        "outputId": "0a6756b5-3cab-45b7-cef0-2e48b4d188ce"
      },
      "execution_count": null,
      "outputs": [
        {
          "output_type": "stream",
          "name": "stdout",
          "text": [
            "['So Pandas here I come']\n"
          ]
        }
      ]
    }
  ]
}